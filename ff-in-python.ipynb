{
 "cells": [
  {
   "cell_type": "code",
   "execution_count": 1,
   "metadata": {},
   "outputs": [],
   "source": [
    "# importing necessary packages and intializing graph object\n",
    "import networkx as nx\n",
    "G = nx.Graph()\n",
    "\n",
    "# reading data into networkx graph object\n",
    "usa = open('contiguous-usa.dat')\n",
    "for line in usa:\n",
    "    s1, s2 = line.strip().split()\n",
    "    G.add_edge(s1, s2)"
   ]
  },
  {
   "cell_type": "code",
   "execution_count": 2,
   "metadata": {},
   "outputs": [],
   "source": [
    "# encoding the demands to each state\n",
    "for state in G.nodes():\n",
    "    if state != 'CA':\n",
    "        G.node[state]['demand'] = 1\n",
    "G.node['CA']['demand'] = -48"
   ]
  },
  {
   "cell_type": "code",
   "execution_count": 3,
   "metadata": {},
   "outputs": [],
   "source": [
    "# assigning capacities to each edge in the graph\n",
    "G = nx.DiGraph(G)\n",
    "# since CA is connected to only 3 states, we set the uniform capacity to 16\n",
    "uniform_capacity = 16\n",
    "for (s1, s2) in G.edges():\n",
    "    G.edges[s1,s2]['capacity'] = uniform_capacity"
   ]
  },
  {
   "cell_type": "code",
   "execution_count": 4,
   "metadata": {},
   "outputs": [],
   "source": [
    "# function which computes the flow with demands and returns the a flow dictionary with flow along each edge else returns error\n",
    "def flow_with_demands(graph):\n",
    "    G.add_node('Source')\n",
    "    G.add_node('Sink')\n",
    "     \n",
    "    total_demand = 0\n",
    "    total_supply = 0\n",
    "    for state in G.nodes():\n",
    "        if state == 'Source' or state == 'Sink':\n",
    "            continue\n",
    "        elif G.node[state]['demand'] > 0:\n",
    "            total_demand += G.node[state]['demand']\n",
    "            G.add_edge(state, 'Sink')\n",
    "            G.edges[state,'Sink']['capacity'] = G.node[state]['demand']\n",
    "        elif G.node[state]['demand'] < 0:\n",
    "            total_supply += G.node[state]['demand']\n",
    "            G.add_edge('Source', state)\n",
    "            G.edges['Source',state]['capacity'] = abs(G.node[state]['demand'])\n",
    "    \n",
    "    if total_demand + total_supply != 0:\n",
    "        raise nx.NetworkXUnfeasible(\"No flow satisfies the demands\")\n",
    "  \n",
    "    flow_value, flow_dict = nx.maximum_flow(G, 'Source', 'Sink')\n",
    "    \n",
    "    if flow_value != total_demand:\n",
    "        raise nx.NetworkXUnfeasible(\"No flow satisfies the demands\")\n",
    "        \n",
    "    del flow_dict['Source']\n",
    "    del flow_dict['Sink']\n",
    "    \n",
    "    for key, value in flow_dict.items():\n",
    "        if 'Sink' in value:\n",
    "            del flow_dict[key]['Sink']\n",
    "        elif 'Source' in value:\n",
    "            del flow_dict[key]['Source']\n",
    "    \n",
    "    for state in G.nodes():\n",
    "        if state == 'Source' or state == 'Sink':\n",
    "            continue\n",
    "        elif G.node[state]['demand'] > 0:\n",
    "            G.remove_edge(state, 'Sink')\n",
    "        elif G.node[state]['demand'] < 0:\n",
    "            G.remove_edge('Source', state)\n",
    "\n",
    "    G.remove_node('Source')\n",
    "    G.remove_node('Sink')\n",
    "    \n",
    "    return flow_dict"
   ]
  },
  {
   "cell_type": "code",
   "execution_count": 5,
   "metadata": {},
   "outputs": [],
   "source": [
    "# computes the flow into each node according to the given dictionary and output the resultant net flow as a dictionary\n",
    "def divergence(flow):\n",
    "    net_flow = {}\n",
    "    state_outflow = {}\n",
    "    state_inflow = {}\n",
    "    for state in flow:\n",
    "        adj = flow.get(state)\n",
    "        state_outflow[state] = sum(adj.values())\n",
    "        for key, value in adj.items():\n",
    "            if key not in state_inflow:\n",
    "                state_inflow[key] = value\n",
    "            else:\n",
    "                state_inflow[key] += value\n",
    "    \n",
    "    for key, value in state_inflow.items():\n",
    "        net_flow[key] = value - state_outflow[key]\n",
    "    \n",
    "    return net_flow"
   ]
  },
  {
   "cell_type": "code",
   "execution_count": 6,
   "metadata": {},
   "outputs": [
    {
     "name": "stdout",
     "output_type": "stream",
     "text": [
      "Flow satisfies all demands: True\n"
     ]
    }
   ],
   "source": [
    "# sanity check\n",
    "flow = flow_with_demands(G)\n",
    "div = divergence(flow)\n",
    "print(\"Flow satisfies all demands:\", all(div[n] == G.node[n]['demand'] for n in G.nodes()))"
   ]
  }
 ],
 "metadata": {
  "kernelspec": {
   "display_name": "py2.7",
   "language": "python",
   "name": "py2.7"
  },
  "language_info": {
   "codemirror_mode": {
    "name": "ipython",
    "version": 3
   },
   "file_extension": ".py",
   "mimetype": "text/x-python",
   "name": "python",
   "nbconvert_exporter": "python",
   "pygments_lexer": "ipython3",
   "version": "3.7.0"
  }
 },
 "nbformat": 4,
 "nbformat_minor": 1
}
